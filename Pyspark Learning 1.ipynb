{
 "cells": [
  {
   "cell_type": "code",
   "execution_count": 3,
   "id": "98328b94",
   "metadata": {},
   "outputs": [
    {
     "name": "stdout",
     "output_type": "stream",
     "text": [
      "Requirement already satisfied: pyspark in c:\\users\\parth\\anaconda3\\lib\\site-packages (3.5.5)\n",
      "Requirement already satisfied: py4j==0.10.9.7 in c:\\users\\parth\\anaconda3\\lib\\site-packages (from pyspark) (0.10.9.7)\n",
      "Note: you may need to restart the kernel to use updated packages.\n"
     ]
    },
    {
     "name": "stderr",
     "output_type": "stream",
     "text": [
      "WARNING: Error parsing dependencies of pyodbc: Invalid version: '4.0.0-unsupported'\n",
      "\n",
      "[notice] A new release of pip is available: 24.3.1 -> 25.0.1\n",
      "[notice] To update, run: python.exe -m pip install --upgrade pip\n",
      "ERROR: Exception:\n",
      "Traceback (most recent call last):\n",
      "  File \"C:\\Users\\parth\\AppData\\Roaming\\Python\\Python39\\site-packages\\pip\\_internal\\cli\\base_command.py\", line 105, in _run_wrapper\n",
      "    status = _inner_run()\n",
      "  File \"C:\\Users\\parth\\AppData\\Roaming\\Python\\Python39\\site-packages\\pip\\_internal\\cli\\base_command.py\", line 96, in _inner_run\n",
      "    return self.run(options, args)\n",
      "  File \"C:\\Users\\parth\\AppData\\Roaming\\Python\\Python39\\site-packages\\pip\\_internal\\cli\\req_command.py\", line 67, in wrapper\n",
      "    return func(self, options, args)\n",
      "  File \"C:\\Users\\parth\\AppData\\Roaming\\Python\\Python39\\site-packages\\pip\\_internal\\commands\\install.py\", line 483, in run\n",
      "    installed_versions[distribution.canonical_name] = distribution.version\n",
      "  File \"C:\\Users\\parth\\AppData\\Roaming\\Python\\Python39\\site-packages\\pip\\_internal\\metadata\\pkg_resources.py\", line 192, in version\n",
      "    return parse_version(self._dist.version)\n",
      "  File \"C:\\Users\\parth\\AppData\\Roaming\\Python\\Python39\\site-packages\\pip\\_vendor\\packaging\\version.py\", line 56, in parse\n",
      "    return Version(version)\n",
      "  File \"C:\\Users\\parth\\AppData\\Roaming\\Python\\Python39\\site-packages\\pip\\_vendor\\packaging\\version.py\", line 202, in __init__\n",
      "    raise InvalidVersion(f\"Invalid version: '{version}'\")\n",
      "pip._vendor.packaging.version.InvalidVersion: Invalid version: '4.0.0-unsupported'\n"
     ]
    }
   ],
   "source": [
    "pip install pyspark"
   ]
  },
  {
   "cell_type": "code",
   "execution_count": 4,
   "id": "142fd943",
   "metadata": {},
   "outputs": [],
   "source": [
    "import pyspark\n",
    "import pandas as pd"
   ]
  },
  {
   "cell_type": "code",
   "execution_count": 5,
   "id": "e6a3ab90",
   "metadata": {},
   "outputs": [],
   "source": [
    "df=pd.read_csv(\"C:\\\\Users\\\\parth\\\\Downloads\\\\Chocolate Sales.csv\")\n",
    "df.head()\n",
    "#In order to read data using pyspark we need to start a spark session\n",
    "from pyspark.sql import SparkSession\n",
    "spark=SparkSession.builder.appName('practise1').getOrCreate()"
   ]
  },
  {
   "cell_type": "code",
   "execution_count": 6,
   "id": "6b5d993b",
   "metadata": {},
   "outputs": [
    {
     "data": {
      "text/html": [
       "\n",
       "            <div>\n",
       "                <p><b>SparkSession - in-memory</b></p>\n",
       "                \n",
       "        <div>\n",
       "            <p><b>SparkContext</b></p>\n",
       "\n",
       "            <p><a href=\"http://LAPTOP-8SP8VPHV:4040\">Spark UI</a></p>\n",
       "\n",
       "            <dl>\n",
       "              <dt>Version</dt>\n",
       "                <dd><code>v3.5.5</code></dd>\n",
       "              <dt>Master</dt>\n",
       "                <dd><code>local[*]</code></dd>\n",
       "              <dt>AppName</dt>\n",
       "                <dd><code>practise1</code></dd>\n",
       "            </dl>\n",
       "        </div>\n",
       "        \n",
       "            </div>\n",
       "        "
      ],
      "text/plain": [
       "<pyspark.sql.session.SparkSession at 0x18888972820>"
      ]
     },
     "execution_count": 6,
     "metadata": {},
     "output_type": "execute_result"
    }
   ],
   "source": [
    "spark"
   ]
  },
  {
   "cell_type": "code",
   "execution_count": 7,
   "id": "e440e801",
   "metadata": {},
   "outputs": [],
   "source": [
    "df_pyspark=spark.read.csv(\"C:\\\\Users\\\\parth\\\\Downloads\\\\Chocolate Sales.csv\")"
   ]
  },
  {
   "cell_type": "code",
   "execution_count": 10,
   "id": "d051fc35",
   "metadata": {},
   "outputs": [
    {
     "name": "stdout",
     "output_type": "stream",
     "text": [
      "+-------------------+-----------+-------------------+---------+--------+-------------+\n",
      "|                _c0|        _c1|                _c2|      _c3|     _c4|          _c5|\n",
      "+-------------------+-----------+-------------------+---------+--------+-------------+\n",
      "|       Sales Person|    Country|            Product|     Date|  Amount|Boxes Shipped|\n",
      "|     Jehu Rudeforth|         UK|    Mint Chip Choco|04-Jan-22| $5,320 |          180|\n",
      "|        Van Tuxwell|      India|      85% Dark Bars|01-Aug-22| $7,896 |           94|\n",
      "|       Gigi Bohling|      India|Peanut Butter Cubes|07-Jul-22| $4,501 |           91|\n",
      "|       Jan Morforth|  Australia|Peanut Butter Cubes|27-Apr-22|$12,726 |          342|\n",
      "|     Jehu Rudeforth|         UK|Peanut Butter Cubes|24-Feb-22|$13,685 |          184|\n",
      "|        Van Tuxwell|      India| Smooth Sliky Salty|06-Jun-22| $5,376 |           38|\n",
      "|         Oby Sorrel|         UK|    99% Dark & Pure|25-Jan-22|$13,685 |          176|\n",
      "|    Gunar Cockshoot|  Australia|        After Nines|24-Mar-22| $3,080 |           73|\n",
      "|     Jehu Rudeforth|New Zealand|     50% Dark Bites|20-Apr-22| $3,990 |           59|\n",
      "|        Brien Boise|  Australia|    99% Dark & Pure|04-Jul-22| $2,835 |          102|\n",
      "|Rafaelita Blaksland|         UK| Smooth Sliky Salty|13-Jan-22| $4,704 |           62|\n",
      "|       Barr Faughny|        USA|       Orange Choco|10-Mar-22| $3,703 |           11|\n",
      "|     Mallorie Waber|     Canada|            Eclairs|13-Jan-22| $1,442 |          286|\n",
      "|   Karlen McCaffrey|New Zealand|      Drinking Coco|28-Jul-22|   $168 |          156|\n",
      "|     Marney O'Breen|New Zealand|Peanut Butter Cubes|03-Aug-22| $8,379 |          173|\n",
      "|     Beverie Moffet|  Australia|Organic Choco Syrup|26-Jan-22| $6,790 |          356|\n",
      "|        Van Tuxwell|     Canada|Organic Choco Syrup|14-Feb-22| $4,067 |           42|\n",
      "|    Roddy Speechley|        USA| Smooth Sliky Salty|05-Apr-22| $3,017 |          140|\n",
      "|     Beverie Moffet|     Canada|          Milk Bars|16-Feb-22| $8,799 |          250|\n",
      "+-------------------+-----------+-------------------+---------+--------+-------------+\n",
      "only showing top 20 rows\n",
      "\n"
     ]
    }
   ],
   "source": [
    "df_pyspark.show()"
   ]
  },
  {
   "cell_type": "code",
   "execution_count": 14,
   "id": "3ff63872",
   "metadata": {},
   "outputs": [],
   "source": [
    "df_pyspark=spark.read.option('header','true').csv(\"C:\\\\Users\\\\parth\\\\Downloads\\\\Chocolate Sales.csv\")"
   ]
  },
  {
   "cell_type": "code",
   "execution_count": 16,
   "id": "a07bba47",
   "metadata": {},
   "outputs": [
    {
     "name": "stdout",
     "output_type": "stream",
     "text": [
      "+-------------------+-----------+-------------------+---------+--------+-------------+\n",
      "|       Sales Person|    Country|            Product|     Date|  Amount|Boxes Shipped|\n",
      "+-------------------+-----------+-------------------+---------+--------+-------------+\n",
      "|     Jehu Rudeforth|         UK|    Mint Chip Choco|04-Jan-22| $5,320 |          180|\n",
      "|        Van Tuxwell|      India|      85% Dark Bars|01-Aug-22| $7,896 |           94|\n",
      "|       Gigi Bohling|      India|Peanut Butter Cubes|07-Jul-22| $4,501 |           91|\n",
      "|       Jan Morforth|  Australia|Peanut Butter Cubes|27-Apr-22|$12,726 |          342|\n",
      "|     Jehu Rudeforth|         UK|Peanut Butter Cubes|24-Feb-22|$13,685 |          184|\n",
      "|        Van Tuxwell|      India| Smooth Sliky Salty|06-Jun-22| $5,376 |           38|\n",
      "|         Oby Sorrel|         UK|    99% Dark & Pure|25-Jan-22|$13,685 |          176|\n",
      "|    Gunar Cockshoot|  Australia|        After Nines|24-Mar-22| $3,080 |           73|\n",
      "|     Jehu Rudeforth|New Zealand|     50% Dark Bites|20-Apr-22| $3,990 |           59|\n",
      "|        Brien Boise|  Australia|    99% Dark & Pure|04-Jul-22| $2,835 |          102|\n",
      "|Rafaelita Blaksland|         UK| Smooth Sliky Salty|13-Jan-22| $4,704 |           62|\n",
      "|       Barr Faughny|        USA|       Orange Choco|10-Mar-22| $3,703 |           11|\n",
      "|     Mallorie Waber|     Canada|            Eclairs|13-Jan-22| $1,442 |          286|\n",
      "|   Karlen McCaffrey|New Zealand|      Drinking Coco|28-Jul-22|   $168 |          156|\n",
      "|     Marney O'Breen|New Zealand|Peanut Butter Cubes|03-Aug-22| $8,379 |          173|\n",
      "|     Beverie Moffet|  Australia|Organic Choco Syrup|26-Jan-22| $6,790 |          356|\n",
      "|        Van Tuxwell|     Canada|Organic Choco Syrup|14-Feb-22| $4,067 |           42|\n",
      "|    Roddy Speechley|        USA| Smooth Sliky Salty|05-Apr-22| $3,017 |          140|\n",
      "|     Beverie Moffet|     Canada|          Milk Bars|16-Feb-22| $8,799 |          250|\n",
      "|     Curtice Advani|         UK|      85% Dark Bars|08-Jun-22| $1,085 |          172|\n",
      "+-------------------+-----------+-------------------+---------+--------+-------------+\n",
      "only showing top 20 rows\n",
      "\n"
     ]
    }
   ],
   "source": [
    "df_pyspark.show()"
   ]
  },
  {
   "cell_type": "code",
   "execution_count": 17,
   "id": "4e62a047",
   "metadata": {},
   "outputs": [
    {
     "data": {
      "text/plain": [
       "pyspark.sql.dataframe.DataFrame"
      ]
     },
     "execution_count": 17,
     "metadata": {},
     "output_type": "execute_result"
    }
   ],
   "source": [
    "type(df_pyspark)"
   ]
  },
  {
   "cell_type": "code",
   "execution_count": 19,
   "id": "54f5d7c6",
   "metadata": {},
   "outputs": [
    {
     "name": "stdout",
     "output_type": "stream",
     "text": [
      "root\n",
      " |-- Sales Person: string (nullable = true)\n",
      " |-- Country: string (nullable = true)\n",
      " |-- Product: string (nullable = true)\n",
      " |-- Date: string (nullable = true)\n",
      " |-- Amount: string (nullable = true)\n",
      " |-- Boxes Shipped: string (nullable = true)\n",
      "\n"
     ]
    }
   ],
   "source": [
    "df_pyspark.printSchema()"
   ]
  },
  {
   "cell_type": "code",
   "execution_count": null,
   "id": "6112ff57",
   "metadata": {},
   "outputs": [],
   "source": []
  }
 ],
 "metadata": {
  "kernelspec": {
   "display_name": "Python 3 (ipykernel)",
   "language": "python",
   "name": "python3"
  },
  "language_info": {
   "codemirror_mode": {
    "name": "ipython",
    "version": 3
   },
   "file_extension": ".py",
   "mimetype": "text/x-python",
   "name": "python",
   "nbconvert_exporter": "python",
   "pygments_lexer": "ipython3",
   "version": "3.9.7"
  }
 },
 "nbformat": 4,
 "nbformat_minor": 5
}
