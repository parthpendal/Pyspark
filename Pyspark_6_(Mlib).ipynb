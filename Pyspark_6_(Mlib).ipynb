{
  "nbformat": 4,
  "nbformat_minor": 0,
  "metadata": {
    "colab": {
      "provenance": [],
      "authorship_tag": "ABX9TyPIj7rYwhBfvB07eTlrzvxb",
      "include_colab_link": true
    },
    "kernelspec": {
      "name": "python3",
      "display_name": "Python 3"
    },
    "language_info": {
      "name": "python"
    }
  },
  "cells": [
    {
      "cell_type": "markdown",
      "metadata": {
        "id": "view-in-github",
        "colab_type": "text"
      },
      "source": [
        "<a href=\"https://colab.research.google.com/github/parthpendal/Pyspark/blob/main/Pyspark_6_(Mlib).ipynb\" target=\"_parent\"><img src=\"https://colab.research.google.com/assets/colab-badge.svg\" alt=\"Open In Colab\"/></a>"
      ]
    },
    {
      "cell_type": "code",
      "execution_count": 20,
      "metadata": {
        "id": "lflE7BolbuRC"
      },
      "outputs": [],
      "source": [
        "import pyspark"
      ]
    },
    {
      "cell_type": "code",
      "source": [
        "from pyspark.sql import SparkSession"
      ],
      "metadata": {
        "id": "6GaVOnXxdDKq"
      },
      "execution_count": 21,
      "outputs": []
    },
    {
      "cell_type": "code",
      "source": [
        "spark=SparkSession.builder.appName(\"session1\").getOrCreate()"
      ],
      "metadata": {
        "id": "-SspfgardH-L"
      },
      "execution_count": 22,
      "outputs": []
    },
    {
      "cell_type": "code",
      "source": [
        "df_spark = spark.read.csv(\"/content/Emp_exp_sal.csv\",header=True,inferSchema=True)"
      ],
      "metadata": {
        "id": "Ubz_blHTde5W"
      },
      "execution_count": 23,
      "outputs": []
    },
    {
      "cell_type": "code",
      "source": [
        "df_spark.show()"
      ],
      "metadata": {
        "colab": {
          "base_uri": "https://localhost:8080/"
        },
        "id": "7873uoYFfAIO",
        "outputId": "31188113-436a-4e75-d59a-04b744c9dbbf"
      },
      "execution_count": 24,
      "outputs": [
        {
          "output_type": "stream",
          "name": "stdout",
          "text": [
            "+-----+---+----------+------+\n",
            "| Name|Age|Expereince|Salary|\n",
            "+-----+---+----------+------+\n",
            "| John| 20|         2|  4000|\n",
            "|Jacob| 24|         3| 45000|\n",
            "| Mike| 30|         4| 50000|\n",
            "| Asha| 50|        19|110000|\n",
            "|Taryn| 35|         7| 60000|\n",
            "|David| 62|        30|250000|\n",
            "|  Tim| 25|         8| 65000|\n",
            "+-----+---+----------+------+\n",
            "\n"
          ]
        }
      ]
    },
    {
      "cell_type": "code",
      "source": [
        "df_spark.orderBy(\"Expereince\").show()"
      ],
      "metadata": {
        "colab": {
          "base_uri": "https://localhost:8080/"
        },
        "id": "MfjXVG3mfik7",
        "outputId": "4b3f850d-dc2a-4a36-abf7-8fc25d47f88d"
      },
      "execution_count": 25,
      "outputs": [
        {
          "output_type": "stream",
          "name": "stdout",
          "text": [
            "+-----+---+----------+------+\n",
            "| Name|Age|Expereince|Salary|\n",
            "+-----+---+----------+------+\n",
            "| John| 20|         2|  4000|\n",
            "|Jacob| 24|         3| 45000|\n",
            "| Mike| 30|         4| 50000|\n",
            "|Taryn| 35|         7| 60000|\n",
            "|  Tim| 25|         8| 65000|\n",
            "| Asha| 50|        19|110000|\n",
            "|David| 62|        30|250000|\n",
            "+-----+---+----------+------+\n",
            "\n"
          ]
        }
      ]
    },
    {
      "cell_type": "code",
      "source": [
        "from pyspark.ml.feature import VectorAssembler\n",
        "featureassembler=VectorAssembler(inputCols=['Age','Expereince'],outputCol=\"Independent Features\")"
      ],
      "metadata": {
        "id": "GIDf1C5mmOHB"
      },
      "execution_count": 27,
      "outputs": []
    },
    {
      "cell_type": "code",
      "source": [
        "output=featureassembler.transform(df_spark)"
      ],
      "metadata": {
        "id": "n_3K3-ocozGm"
      },
      "execution_count": 29,
      "outputs": []
    },
    {
      "cell_type": "code",
      "source": [
        "output.show()"
      ],
      "metadata": {
        "colab": {
          "base_uri": "https://localhost:8080/"
        },
        "id": "caFsUKk5o6oP",
        "outputId": "dc9487e8-28ee-4505-b43d-dd442fb62fe3"
      },
      "execution_count": 30,
      "outputs": [
        {
          "output_type": "stream",
          "name": "stdout",
          "text": [
            "+-----+---+----------+------+--------------------+\n",
            "| Name|Age|Expereince|Salary|Independent Features|\n",
            "+-----+---+----------+------+--------------------+\n",
            "| John| 20|         2|  4000|          [20.0,2.0]|\n",
            "|Jacob| 24|         3| 45000|          [24.0,3.0]|\n",
            "| Mike| 30|         4| 50000|          [30.0,4.0]|\n",
            "| Asha| 50|        19|110000|         [50.0,19.0]|\n",
            "|Taryn| 35|         7| 60000|          [35.0,7.0]|\n",
            "|David| 62|        30|250000|         [62.0,30.0]|\n",
            "|  Tim| 25|         8| 65000|          [25.0,8.0]|\n",
            "+-----+---+----------+------+--------------------+\n",
            "\n"
          ]
        }
      ]
    },
    {
      "cell_type": "code",
      "source": [
        "finalized_data=output.select(['Salary','Independent Features'])"
      ],
      "metadata": {
        "id": "c2T6IueWo91C"
      },
      "execution_count": 31,
      "outputs": []
    },
    {
      "cell_type": "code",
      "source": [
        "from pyspark.ml.regression import LinearRegression\n",
        "#train test split\n",
        "train_data,test_data=(finalized_data.randomSplit([0.75,0.25]))\n",
        "regressor=LinearRegression(featuresCol='Independent Features',labelCol='Salary')\n",
        "regressor=regressor.fit(train_data)"
      ],
      "metadata": {
        "id": "I8Cew0hdpsF-"
      },
      "execution_count": 33,
      "outputs": []
    },
    {
      "cell_type": "code",
      "source": [
        "regressor.coefficients"
      ],
      "metadata": {
        "colab": {
          "base_uri": "https://localhost:8080/"
        },
        "id": "-BvtDnK-rSeX",
        "outputId": "fcb54a1e-be9a-4176-f305-5a6f29ac31df"
      },
      "execution_count": 34,
      "outputs": [
        {
          "output_type": "execute_result",
          "data": {
            "text/plain": [
              "DenseVector([522.2742, 7835.248])"
            ]
          },
          "metadata": {},
          "execution_count": 34
        }
      ]
    },
    {
      "cell_type": "code",
      "source": [
        "regressor.intercept"
      ],
      "metadata": {
        "colab": {
          "base_uri": "https://localhost:8080/"
        },
        "id": "QIbo4OySrpq2",
        "outputId": "84f47a3a-6fa6-42ea-9bbe-4cb43bec6272"
      },
      "execution_count": 35,
      "outputs": [
        {
          "output_type": "execute_result",
          "data": {
            "text/plain": [
              "-15854.898438362778"
            ]
          },
          "metadata": {},
          "execution_count": 35
        }
      ]
    },
    {
      "cell_type": "code",
      "source": [
        "predicted_results=regressor.evaluate(test_data)"
      ],
      "metadata": {
        "id": "8OGAEj0NruO0"
      },
      "execution_count": 36,
      "outputs": []
    },
    {
      "cell_type": "code",
      "source": [
        "predicted_results.predictions.show()"
      ],
      "metadata": {
        "colab": {
          "base_uri": "https://localhost:8080/"
        },
        "id": "CGSiX_kJr4IP",
        "outputId": "a205b2d5-f327-43f4-fb11-202bc94a83b6"
      },
      "execution_count": 38,
      "outputs": [
        {
          "output_type": "stream",
          "name": "stdout",
          "text": [
            "+------+--------------------+------------------+\n",
            "|Salary|Independent Features|        prediction|\n",
            "+------+--------------------+------------------+\n",
            "| 45000|          [24.0,3.0]|20185.426811011872|\n",
            "| 50000|          [30.0,4.0]|31154.320112198708|\n",
            "|110000|         [50.0,19.0]|159128.52392883616|\n",
            "+------+--------------------+------------------+\n",
            "\n"
          ]
        }
      ]
    },
    {
      "cell_type": "code",
      "source": [
        "predicted_results.meanAbsoluteError,predicted_results.meanSquaredError"
      ],
      "metadata": {
        "colab": {
          "base_uri": "https://localhost:8080/"
        },
        "id": "i1L-wj3Xr6ZQ",
        "outputId": "04ebaa10-4807-426b-ec4e-8cacd6e17f16"
      },
      "execution_count": 39,
      "outputs": [
        {
          "output_type": "execute_result",
          "data": {
            "text/plain": [
              "(30929.592335208526, 1128178185.4704514)"
            ]
          },
          "metadata": {},
          "execution_count": 39
        }
      ]
    },
    {
      "cell_type": "code",
      "source": [],
      "metadata": {
        "id": "QCiGSfTssIkX"
      },
      "execution_count": null,
      "outputs": []
    }
  ]
}