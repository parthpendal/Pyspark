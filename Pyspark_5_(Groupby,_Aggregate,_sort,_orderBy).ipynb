{
  "nbformat": 4,
  "nbformat_minor": 0,
  "metadata": {
    "colab": {
      "provenance": [],
      "authorship_tag": "ABX9TyPFi/9CVP75pHzdZ+94xbIf",
      "include_colab_link": true
    },
    "kernelspec": {
      "name": "python3",
      "display_name": "Python 3"
    },
    "language_info": {
      "name": "python"
    }
  },
  "cells": [
    {
      "cell_type": "markdown",
      "metadata": {
        "id": "view-in-github",
        "colab_type": "text"
      },
      "source": [
        "<a href=\"https://colab.research.google.com/github/parthpendal/Pyspark/blob/main/Pyspark_5_(Groupby%2C_Aggregate%2C_sort%2C_orderBy).ipynb\" target=\"_parent\"><img src=\"https://colab.research.google.com/assets/colab-badge.svg\" alt=\"Open In Colab\"/></a>"
      ]
    },
    {
      "cell_type": "code",
      "execution_count": 58,
      "metadata": {
        "colab": {
          "base_uri": "https://localhost:8080/"
        },
        "id": "Bro28V3l505I",
        "outputId": "1f14c419-67be-450b-9d33-fed8eac223db"
      },
      "outputs": [
        {
          "output_type": "stream",
          "name": "stdout",
          "text": [
            "Requirement already satisfied: pyspark in /usr/local/lib/python3.11/dist-packages (3.5.1)\n",
            "Requirement already satisfied: py4j==0.10.9.7 in /usr/local/lib/python3.11/dist-packages (from pyspark) (0.10.9.7)\n"
          ]
        }
      ],
      "source": [
        "!pip install pyspark"
      ]
    },
    {
      "cell_type": "code",
      "source": [
        "from pyspark.sql import SparkSession"
      ],
      "metadata": {
        "id": "IkcTaajK53jG"
      },
      "execution_count": 59,
      "outputs": []
    },
    {
      "cell_type": "code",
      "source": [
        "spark=SparkSession.builder.appName(\"spark1\").getOrCreate()"
      ],
      "metadata": {
        "id": "lsKvHIoe6EQy"
      },
      "execution_count": 60,
      "outputs": []
    },
    {
      "cell_type": "code",
      "source": [
        "df_spark=spark.read.csv(\"/content/Srudent_Marks.csv\", header=True,inferSchema=True)"
      ],
      "metadata": {
        "id": "lDa_ETPd6Q0h"
      },
      "execution_count": 61,
      "outputs": []
    },
    {
      "cell_type": "code",
      "source": [
        "df_spark.show()"
      ],
      "metadata": {
        "colab": {
          "base_uri": "https://localhost:8080/"
        },
        "id": "z-KHfdWJ6oJF",
        "outputId": "60a6a9b1-bdbf-41a8-e1a9-acaaeb306cec"
      },
      "execution_count": 62,
      "outputs": [
        {
          "output_type": "stream",
          "name": "stdout",
          "text": [
            "+-------+--------+-------+-----+\n",
            "|Student|   Name |Subject|Marks|\n",
            "+-------+--------+-------+-----+\n",
            "|      1|    Mike|Physics|   80|\n",
            "|      2|  Jacson|  Maths|   30|\n",
            "|      3|  Thomas|Science|   78|\n",
            "|      4|    Lisa|Physics| NULL|\n",
            "|      5|     Amy|  Maths|   43|\n",
            "|      6|Jennifer|Science| NULL|\n",
            "|      7|   Karen|Physics|  100|\n",
            "|      8|     Ram|  Maths| NULL|\n",
            "+-------+--------+-------+-----+\n",
            "\n"
          ]
        }
      ]
    },
    {
      "cell_type": "code",
      "source": [
        "  df_spark.filter((df_spark['Marks']>30)  | (df_spark['Name ']=='Mike')).select(['Name ','Marks']).show()"
      ],
      "metadata": {
        "colab": {
          "base_uri": "https://localhost:8080/"
        },
        "id": "Pk9jUWQH6r6E",
        "outputId": "abfd9154-faea-4442-f1cb-8b73f8688bc2"
      },
      "execution_count": 63,
      "outputs": [
        {
          "output_type": "stream",
          "name": "stdout",
          "text": [
            "+------+-----+\n",
            "| Name |Marks|\n",
            "+------+-----+\n",
            "|  Mike|   80|\n",
            "|Thomas|   78|\n",
            "|   Amy|   43|\n",
            "| Karen|  100|\n",
            "+------+-----+\n",
            "\n"
          ]
        }
      ]
    },
    {
      "cell_type": "code",
      "source": [
        "df_spark.show()"
      ],
      "metadata": {
        "colab": {
          "base_uri": "https://localhost:8080/"
        },
        "id": "P06af_5_6yqA",
        "outputId": "a3445c78-2256-4687-f97b-6059ae8a07ef"
      },
      "execution_count": 64,
      "outputs": [
        {
          "output_type": "stream",
          "name": "stdout",
          "text": [
            "+-------+--------+-------+-----+\n",
            "|Student|   Name |Subject|Marks|\n",
            "+-------+--------+-------+-----+\n",
            "|      1|    Mike|Physics|   80|\n",
            "|      2|  Jacson|  Maths|   30|\n",
            "|      3|  Thomas|Science|   78|\n",
            "|      4|    Lisa|Physics| NULL|\n",
            "|      5|     Amy|  Maths|   43|\n",
            "|      6|Jennifer|Science| NULL|\n",
            "|      7|   Karen|Physics|  100|\n",
            "|      8|     Ram|  Maths| NULL|\n",
            "+-------+--------+-------+-----+\n",
            "\n"
          ]
        }
      ]
    },
    {
      "cell_type": "code",
      "source": [
        "# Group by\n",
        "df_spark.groupBy(\"Subject\").sum(\"Marks\").show()"
      ],
      "metadata": {
        "colab": {
          "base_uri": "https://localhost:8080/"
        },
        "id": "iDoeuK5EHosJ",
        "outputId": "372f5744-2057-4202-de97-2631e511284d"
      },
      "execution_count": 65,
      "outputs": [
        {
          "output_type": "stream",
          "name": "stdout",
          "text": [
            "+-------+----------+\n",
            "|Subject|sum(Marks)|\n",
            "+-------+----------+\n",
            "|Science|        78|\n",
            "|Physics|       180|\n",
            "|  Maths|        73|\n",
            "+-------+----------+\n",
            "\n"
          ]
        }
      ]
    },
    {
      "cell_type": "code",
      "source": [
        "#Group by and sort\n",
        "df_spark.groupBy(\"Subject\").avg(\"Marks\").sort(\"Subject\").show()"
      ],
      "metadata": {
        "colab": {
          "base_uri": "https://localhost:8080/"
        },
        "id": "c5XPfq3HJrou",
        "outputId": "c73b0b38-3dbb-42d5-b6c7-915041e82ae8"
      },
      "execution_count": 66,
      "outputs": [
        {
          "output_type": "stream",
          "name": "stdout",
          "text": [
            "+-------+----------+\n",
            "|Subject|avg(Marks)|\n",
            "+-------+----------+\n",
            "|  Maths|      36.5|\n",
            "|Physics|      90.0|\n",
            "|Science|      78.0|\n",
            "+-------+----------+\n",
            "\n"
          ]
        }
      ]
    },
    {
      "cell_type": "code",
      "source": [
        "#aggregation\n",
        "df_spark.agg({'Marks':'Mean','Name ':'Count'}).show()"
      ],
      "metadata": {
        "colab": {
          "base_uri": "https://localhost:8080/"
        },
        "id": "I-WqFqaVMlXr",
        "outputId": "1dd7ccdb-4c01-4d5f-9355-ec02eb5403f0"
      },
      "execution_count": 67,
      "outputs": [
        {
          "output_type": "stream",
          "name": "stdout",
          "text": [
            "+----------+------------+\n",
            "|avg(Marks)|count(Name )|\n",
            "+----------+------------+\n",
            "|      66.2|           8|\n",
            "+----------+------------+\n",
            "\n"
          ]
        }
      ]
    },
    {
      "cell_type": "code",
      "source": [
        "# Multiple aggregation with groupby and sort\n",
        "df_spark.groupBy(\"Subject\").agg({'Marks':'Mean','Name ':'Count'}).sort(\"avg(Marks)\").show()"
      ],
      "metadata": {
        "colab": {
          "base_uri": "https://localhost:8080/"
        },
        "id": "bwqp4dHGKvM1",
        "outputId": "46aaf0ed-3963-438b-ea27-7ec207e2f716"
      },
      "execution_count": 70,
      "outputs": [
        {
          "output_type": "stream",
          "name": "stdout",
          "text": [
            "+-------+----------+------------+\n",
            "|Subject|avg(Marks)|count(Name )|\n",
            "+-------+----------+------------+\n",
            "|  Maths|      36.5|           3|\n",
            "|Science|      78.0|           2|\n",
            "|Physics|      90.0|           3|\n",
            "+-------+----------+------------+\n",
            "\n"
          ]
        }
      ]
    },
    {
      "cell_type": "code",
      "source": [
        "# Multiple columns aggregation, sort descending oder\n",
        "from pyspark.sql.functions import col, avg, min, max, sum\n",
        "from pyspark.sql.functions import desc\n",
        "df_spark.groupBy('Subject').agg(avg('Marks').alias(\"Average_marks\"), max(\"Marks\").alias(\"Max_Marks\")).sort(desc(\"Max_Marks\")).show()"
      ],
      "metadata": {
        "colab": {
          "base_uri": "https://localhost:8080/"
        },
        "id": "Igo4kZHSNP1M",
        "outputId": "4ffb5a90-b312-4c2e-a560-0b896a05aa7f"
      },
      "execution_count": 82,
      "outputs": [
        {
          "output_type": "stream",
          "name": "stdout",
          "text": [
            "+-------+-------------+---------+\n",
            "|Subject|Average_marks|Max_Marks|\n",
            "+-------+-------------+---------+\n",
            "|Physics|         90.0|      100|\n",
            "|Science|         78.0|       78|\n",
            "|  Maths|         36.5|       43|\n",
            "+-------+-------------+---------+\n",
            "\n"
          ]
        }
      ]
    },
    {
      "cell_type": "code",
      "source": [
        "# using order by to descending\n",
        "df_spark.orderBy(desc(\"Marks\")).show()"
      ],
      "metadata": {
        "id": "Z7AP2NNtRNTn",
        "colab": {
          "base_uri": "https://localhost:8080/"
        },
        "outputId": "19bd6332-e5b5-465f-c558-c52b843f65af"
      },
      "execution_count": 84,
      "outputs": [
        {
          "output_type": "stream",
          "name": "stdout",
          "text": [
            "+-------+--------+-------+-----+\n",
            "|Student|   Name |Subject|Marks|\n",
            "+-------+--------+-------+-----+\n",
            "|      7|   Karen|Physics|  100|\n",
            "|      1|    Mike|Physics|   80|\n",
            "|      3|  Thomas|Science|   78|\n",
            "|      5|     Amy|  Maths|   43|\n",
            "|      2|  Jacson|  Maths|   30|\n",
            "|      4|    Lisa|Physics| NULL|\n",
            "|      6|Jennifer|Science| NULL|\n",
            "|      8|     Ram|  Maths| NULL|\n",
            "+-------+--------+-------+-----+\n",
            "\n"
          ]
        }
      ]
    },
    {
      "cell_type": "code",
      "source": [
        "df_spark.groupBy('Subject').agg(avg('Marks').alias(\"Average_marks\"), max(\"Marks\").alias(\"Max_Marks\")).orderBy(desc(\"Max_Marks\")).show()"
      ],
      "metadata": {
        "colab": {
          "base_uri": "https://localhost:8080/"
        },
        "id": "wFklQm73YivU",
        "outputId": "9c6583a9-f54d-453d-d606-02c6632ca622"
      },
      "execution_count": 85,
      "outputs": [
        {
          "output_type": "stream",
          "name": "stdout",
          "text": [
            "+-------+-------------+---------+\n",
            "|Subject|Average_marks|Max_Marks|\n",
            "+-------+-------------+---------+\n",
            "|Physics|         90.0|      100|\n",
            "|Science|         78.0|       78|\n",
            "|  Maths|         36.5|       43|\n",
            "+-------+-------------+---------+\n",
            "\n"
          ]
        }
      ]
    },
    {
      "cell_type": "code",
      "source": [],
      "metadata": {
        "id": "gItkR8zhZBcY"
      },
      "execution_count": null,
      "outputs": []
    }
  ]
}