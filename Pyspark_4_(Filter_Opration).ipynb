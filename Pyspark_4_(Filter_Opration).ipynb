{
  "nbformat": 4,
  "nbformat_minor": 0,
  "metadata": {
    "colab": {
      "provenance": [],
      "mount_file_id": "1s9XowhcacZV4f427xDiOKjRlZyLYh8sj",
      "authorship_tag": "ABX9TyNYk3XoK2dCPjHsGsxtdKfy",
      "include_colab_link": true
    },
    "kernelspec": {
      "name": "python3",
      "display_name": "Python 3"
    },
    "language_info": {
      "name": "python"
    }
  },
  "cells": [
    {
      "cell_type": "markdown",
      "metadata": {
        "id": "view-in-github",
        "colab_type": "text"
      },
      "source": [
        "<a href=\"https://colab.research.google.com/github/parthpendal/Pyspark/blob/main/Pyspark_4_(Filter_Opration).ipynb\" target=\"_parent\"><img src=\"https://colab.research.google.com/assets/colab-badge.svg\" alt=\"Open In Colab\"/></a>"
      ]
    },
    {
      "cell_type": "code",
      "execution_count": 3,
      "metadata": {
        "colab": {
          "base_uri": "https://localhost:8080/"
        },
        "id": "bg4CghqhbtkK",
        "outputId": "7eaeaf37-95e3-4956-b2b9-f22b8642a782"
      },
      "outputs": [
        {
          "output_type": "stream",
          "name": "stdout",
          "text": [
            "Requirement already satisfied: pyspark in /usr/local/lib/python3.11/dist-packages (3.5.5)\n",
            "Requirement already satisfied: py4j==0.10.9.7 in /usr/local/lib/python3.11/dist-packages (from pyspark) (0.10.9.7)\n"
          ]
        }
      ],
      "source": [
        "!pip install pyspark\n",
        "import pyspark"
      ]
    },
    {
      "cell_type": "code",
      "source": [
        "from pyspark.sql import SparkSession"
      ],
      "metadata": {
        "id": "FtY3kYMQbzll"
      },
      "execution_count": 5,
      "outputs": []
    },
    {
      "cell_type": "code",
      "source": [
        "spark=SparkSession.builder.appName(\"spark1\").getOrCreate()"
      ],
      "metadata": {
        "id": "AII0UmHlcY24"
      },
      "execution_count": 7,
      "outputs": []
    },
    {
      "cell_type": "code",
      "source": [
        "df_spark=spark.read.csv('/content/Srudent_Marks.csv')"
      ],
      "metadata": {
        "id": "3CxwdETBcnEH"
      },
      "execution_count": 9,
      "outputs": []
    },
    {
      "cell_type": "code",
      "source": [
        "df_spark=spark.read.option('header','true').csv(\"/content/Srudent_Marks.csv\")"
      ],
      "metadata": {
        "id": "QE4VxD_kcvHL"
      },
      "execution_count": 30,
      "outputs": []
    },
    {
      "cell_type": "code",
      "source": [
        "df_spark.show()"
      ],
      "metadata": {
        "colab": {
          "base_uri": "https://localhost:8080/"
        },
        "id": "ckVhq8t4d_CK",
        "outputId": "740fa154-a8a7-4cb8-dc50-6975916a17da"
      },
      "execution_count": 31,
      "outputs": [
        {
          "output_type": "stream",
          "name": "stdout",
          "text": [
            "+-------+--------+-------+-----+\n",
            "|Student|   Name |Subject|Marks|\n",
            "+-------+--------+-------+-----+\n",
            "|      1|    Mike|Physics|   80|\n",
            "|      2|  Jacson|  Maths|   30|\n",
            "|      3|  Thomas|Science|   78|\n",
            "|      4|    Lisa|Physics| NULL|\n",
            "|      5|     Amy|  Maths|   43|\n",
            "|      6|Jennifer|Science| NULL|\n",
            "|      7|   Karen|Physics|  100|\n",
            "|      8|     Ram|  Maths| NULL|\n",
            "+-------+--------+-------+-----+\n",
            "\n"
          ]
        }
      ]
    },
    {
      "cell_type": "code",
      "source": [
        "#Method 1: Filter opration using pyspark\n",
        "df_spark.filter(\"Marks>50\").show()\n",
        "\n",
        "df_spark.filter(\"Marks>30\").select([\"Name \",\"Subject\",\"Marks\"]).show()"
      ],
      "metadata": {
        "colab": {
          "base_uri": "https://localhost:8080/"
        },
        "id": "vyRvFDPbePQg",
        "outputId": "15a119e4-3ec3-4cca-b804-eff47a8f0a6e"
      },
      "execution_count": 32,
      "outputs": [
        {
          "output_type": "stream",
          "name": "stdout",
          "text": [
            "+-------+------+-------+-----+\n",
            "|Student| Name |Subject|Marks|\n",
            "+-------+------+-------+-----+\n",
            "|      1|  Mike|Physics|   80|\n",
            "|      3|Thomas|Science|   78|\n",
            "|      7| Karen|Physics|  100|\n",
            "+-------+------+-------+-----+\n",
            "\n",
            "+------+-------+-----+\n",
            "| Name |Subject|Marks|\n",
            "+------+-------+-----+\n",
            "|  Mike|Physics|   80|\n",
            "|Thomas|Science|   78|\n",
            "|   Amy|  Maths|   43|\n",
            "| Karen|Physics|  100|\n",
            "+------+-------+-----+\n",
            "\n"
          ]
        }
      ]
    },
    {
      "cell_type": "code",
      "source": [
        "#Method 2: Filter operation\n",
        "df_spark.filter(df_spark['Marks']>30).show()"
      ],
      "metadata": {
        "colab": {
          "base_uri": "https://localhost:8080/"
        },
        "id": "Dx-_rEuHhowO",
        "outputId": "5444a8a4-730c-4f97-dfeb-f599ad22272f"
      },
      "execution_count": 33,
      "outputs": [
        {
          "output_type": "stream",
          "name": "stdout",
          "text": [
            "+-------+------+-------+-----+\n",
            "|Student| Name |Subject|Marks|\n",
            "+-------+------+-------+-----+\n",
            "|      1|  Mike|Physics|   80|\n",
            "|      3|Thomas|Science|   78|\n",
            "|      5|   Amy|  Maths|   43|\n",
            "|      7| Karen|Physics|  100|\n",
            "+-------+------+-------+-----+\n",
            "\n"
          ]
        }
      ]
    },
    {
      "cell_type": "code",
      "source": [
        "#Multiple conditions\n",
        "df_spark.filter((df_spark['Marks']>30) & (df_spark['Name '].like('T%'))).show()"
      ],
      "metadata": {
        "colab": {
          "base_uri": "https://localhost:8080/"
        },
        "id": "vFDzA7JCidm-",
        "outputId": "5c3ec84c-f150-4716-8c99-b185ec433446"
      },
      "execution_count": 34,
      "outputs": [
        {
          "output_type": "stream",
          "name": "stdout",
          "text": [
            "+-------+------+-------+-----+\n",
            "|Student| Name |Subject|Marks|\n",
            "+-------+------+-------+-----+\n",
            "|      3|Thomas|Science|   78|\n",
            "+-------+------+-------+-----+\n",
            "\n"
          ]
        }
      ]
    },
    {
      "cell_type": "code",
      "source": [
        "df_spark.filter(df_spark.Marks>30).show()"
      ],
      "metadata": {
        "colab": {
          "base_uri": "https://localhost:8080/"
        },
        "id": "vcTN2BYVjKT0",
        "outputId": "664bc2e9-0975-4342-84cf-5c2697d9e21c"
      },
      "execution_count": 37,
      "outputs": [
        {
          "output_type": "stream",
          "name": "stdout",
          "text": [
            "+-------+------+-------+-----+\n",
            "|Student| Name |Subject|Marks|\n",
            "+-------+------+-------+-----+\n",
            "|      1|  Mike|Physics|   80|\n",
            "|      3|Thomas|Science|   78|\n",
            "|      5|   Amy|  Maths|   43|\n",
            "|      7| Karen|Physics|  100|\n",
            "+-------+------+-------+-----+\n",
            "\n"
          ]
        }
      ]
    },
    {
      "cell_type": "code",
      "source": [
        "df_spark.filter(~(df_spark.Marks>30)).show()"
      ],
      "metadata": {
        "colab": {
          "base_uri": "https://localhost:8080/"
        },
        "id": "A8RrZ-HakUvX",
        "outputId": "d7ac5246-e844-4fcd-a290-9c3af7702fec"
      },
      "execution_count": 39,
      "outputs": [
        {
          "output_type": "stream",
          "name": "stdout",
          "text": [
            "+-------+------+-------+-----+\n",
            "|Student| Name |Subject|Marks|\n",
            "+-------+------+-------+-----+\n",
            "|      2|Jacson|  Maths|   30|\n",
            "+-------+------+-------+-----+\n",
            "\n"
          ]
        }
      ]
    },
    {
      "cell_type": "code",
      "source": [],
      "metadata": {
        "id": "aH0raGCpmtRj"
      },
      "execution_count": null,
      "outputs": []
    }
  ]
}