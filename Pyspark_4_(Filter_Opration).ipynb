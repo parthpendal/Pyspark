{
  "nbformat": 4,
  "nbformat_minor": 0,
  "metadata": {
    "colab": {
      "provenance": [],
      "mount_file_id": "1s9XowhcacZV4f427xDiOKjRlZyLYh8sj",
      "authorship_tag": "ABX9TyP1onVYq3uYw2aDxVtIy0/u",
      "include_colab_link": true
    },
    "kernelspec": {
      "name": "python3",
      "display_name": "Python 3"
    },
    "language_info": {
      "name": "python"
    }
  },
  "cells": [
    {
      "cell_type": "markdown",
      "metadata": {
        "id": "view-in-github",
        "colab_type": "text"
      },
      "source": [
        "<a href=\"https://colab.research.google.com/github/parthpendal/Pyspark/blob/main/Pyspark_4_(Filter_Opration).ipynb\" target=\"_parent\"><img src=\"https://colab.research.google.com/assets/colab-badge.svg\" alt=\"Open In Colab\"/></a>"
      ]
    },
    {
      "cell_type": "code",
      "execution_count": 1,
      "metadata": {
        "colab": {
          "base_uri": "https://localhost:8080/"
        },
        "id": "bg4CghqhbtkK",
        "outputId": "e36b3647-d414-4885-f39a-c2c3e9ce6160"
      },
      "outputs": [
        {
          "output_type": "stream",
          "name": "stdout",
          "text": [
            "Requirement already satisfied: pyspark in /usr/local/lib/python3.11/dist-packages (3.5.1)\n",
            "Requirement already satisfied: py4j==0.10.9.7 in /usr/local/lib/python3.11/dist-packages (from pyspark) (0.10.9.7)\n"
          ]
        }
      ],
      "source": [
        "!pip install pyspark\n",
        "import pyspark"
      ]
    },
    {
      "cell_type": "code",
      "source": [
        "from pyspark.sql import SparkSession"
      ],
      "metadata": {
        "id": "FtY3kYMQbzll"
      },
      "execution_count": 2,
      "outputs": []
    },
    {
      "cell_type": "code",
      "source": [
        "spark=SparkSession.builder.appName(\"spark1\").getOrCreate()"
      ],
      "metadata": {
        "id": "AII0UmHlcY24"
      },
      "execution_count": 3,
      "outputs": []
    },
    {
      "cell_type": "code",
      "source": [
        "df_spark=spark.read.csv('/content/Srudent_Marks.csv')"
      ],
      "metadata": {
        "id": "3CxwdETBcnEH"
      },
      "execution_count": 4,
      "outputs": []
    },
    {
      "cell_type": "code",
      "source": [
        "df_spark=spark.read.option('header','true').csv(\"/content/Srudent_Marks.csv\")"
      ],
      "metadata": {
        "id": "QE4VxD_kcvHL"
      },
      "execution_count": 5,
      "outputs": []
    },
    {
      "cell_type": "code",
      "source": [
        "df_spark.show()"
      ],
      "metadata": {
        "colab": {
          "base_uri": "https://localhost:8080/"
        },
        "id": "ckVhq8t4d_CK",
        "outputId": "77c47db7-9d62-4313-81d3-f75d70c7266c"
      },
      "execution_count": 6,
      "outputs": [
        {
          "output_type": "stream",
          "name": "stdout",
          "text": [
            "+-------+--------+-------+-----+\n",
            "|Student|   Name |Subject|Marks|\n",
            "+-------+--------+-------+-----+\n",
            "|      1|    Mike|Physics|   80|\n",
            "|      2|  Jacson|  Maths|   30|\n",
            "|      3|  Thomas|Science|   78|\n",
            "|      4|    Lisa|Physics| NULL|\n",
            "|      5|     Amy|  Maths|   43|\n",
            "|      6|Jennifer|Science| NULL|\n",
            "|      7|   Karen|Physics|  100|\n",
            "|      8|     Ram|  Maths| NULL|\n",
            "+-------+--------+-------+-----+\n",
            "\n"
          ]
        }
      ]
    },
    {
      "cell_type": "code",
      "source": [
        "#Method 1: Filter opration using pyspark\n",
        "df_spark.filter(\"Marks>50\").show()\n",
        "\n",
        "df_spark.filter(\"Marks>30\").select([\"Name \",\"Subject\",\"Marks\"]).show()"
      ],
      "metadata": {
        "colab": {
          "base_uri": "https://localhost:8080/"
        },
        "id": "vyRvFDPbePQg",
        "outputId": "40d5bc14-a590-472d-aafe-12aeed657a15"
      },
      "execution_count": 7,
      "outputs": [
        {
          "output_type": "stream",
          "name": "stdout",
          "text": [
            "+-------+------+-------+-----+\n",
            "|Student| Name |Subject|Marks|\n",
            "+-------+------+-------+-----+\n",
            "|      1|  Mike|Physics|   80|\n",
            "|      3|Thomas|Science|   78|\n",
            "|      7| Karen|Physics|  100|\n",
            "+-------+------+-------+-----+\n",
            "\n",
            "+------+-------+-----+\n",
            "| Name |Subject|Marks|\n",
            "+------+-------+-----+\n",
            "|  Mike|Physics|   80|\n",
            "|Thomas|Science|   78|\n",
            "|   Amy|  Maths|   43|\n",
            "| Karen|Physics|  100|\n",
            "+------+-------+-----+\n",
            "\n"
          ]
        }
      ]
    },
    {
      "cell_type": "code",
      "source": [
        "#Method 2: Filter operation\n",
        "df_spark.filter(df_spark['Marks']>30).show()"
      ],
      "metadata": {
        "colab": {
          "base_uri": "https://localhost:8080/"
        },
        "id": "Dx-_rEuHhowO",
        "outputId": "0876e474-db1f-4b9f-ba53-e397a89bceea"
      },
      "execution_count": 8,
      "outputs": [
        {
          "output_type": "stream",
          "name": "stdout",
          "text": [
            "+-------+------+-------+-----+\n",
            "|Student| Name |Subject|Marks|\n",
            "+-------+------+-------+-----+\n",
            "|      1|  Mike|Physics|   80|\n",
            "|      3|Thomas|Science|   78|\n",
            "|      5|   Amy|  Maths|   43|\n",
            "|      7| Karen|Physics|  100|\n",
            "+-------+------+-------+-----+\n",
            "\n"
          ]
        }
      ]
    },
    {
      "cell_type": "code",
      "source": [
        "#Multiple conditions\n",
        "df_spark.filter((df_spark['Marks']>30) & (df_spark['Name '].like('T%'))).show()"
      ],
      "metadata": {
        "colab": {
          "base_uri": "https://localhost:8080/"
        },
        "id": "vFDzA7JCidm-",
        "outputId": "c80ee5cc-ab32-46ce-93a0-349b51360b61"
      },
      "execution_count": 9,
      "outputs": [
        {
          "output_type": "stream",
          "name": "stdout",
          "text": [
            "+-------+------+-------+-----+\n",
            "|Student| Name |Subject|Marks|\n",
            "+-------+------+-------+-----+\n",
            "|      3|Thomas|Science|   78|\n",
            "+-------+------+-------+-----+\n",
            "\n"
          ]
        }
      ]
    },
    {
      "cell_type": "code",
      "source": [
        "df_spark.filter(df_spark.Marks>30).show()"
      ],
      "metadata": {
        "colab": {
          "base_uri": "https://localhost:8080/"
        },
        "id": "vcTN2BYVjKT0",
        "outputId": "0c344ff8-fbf4-43ff-98d8-c443381f648e"
      },
      "execution_count": 10,
      "outputs": [
        {
          "output_type": "stream",
          "name": "stdout",
          "text": [
            "+-------+------+-------+-----+\n",
            "|Student| Name |Subject|Marks|\n",
            "+-------+------+-------+-----+\n",
            "|      1|  Mike|Physics|   80|\n",
            "|      3|Thomas|Science|   78|\n",
            "|      5|   Amy|  Maths|   43|\n",
            "|      7| Karen|Physics|  100|\n",
            "+-------+------+-------+-----+\n",
            "\n"
          ]
        }
      ]
    },
    {
      "cell_type": "code",
      "source": [
        "df_spark.filter(~(df_spark.Marks>30)).show()"
      ],
      "metadata": {
        "colab": {
          "base_uri": "https://localhost:8080/"
        },
        "id": "A8RrZ-HakUvX",
        "outputId": "c1695d8f-8406-4cd2-c2d3-e3e276dd7292"
      },
      "execution_count": 11,
      "outputs": [
        {
          "output_type": "stream",
          "name": "stdout",
          "text": [
            "+-------+------+-------+-----+\n",
            "|Student| Name |Subject|Marks|\n",
            "+-------+------+-------+-----+\n",
            "|      2|Jacson|  Maths|   30|\n",
            "+-------+------+-------+-----+\n",
            "\n"
          ]
        }
      ]
    },
    {
      "cell_type": "code",
      "source": [
        "  df_spark.filter((df_spark['Marks']>30)  | (df_spark['Name ']=='Mike')).select(['Name ','Marks']).show()"
      ],
      "metadata": {
        "id": "aH0raGCpmtRj",
        "colab": {
          "base_uri": "https://localhost:8080/"
        },
        "outputId": "786de660-e19f-4c54-cab5-6237e892a20b"
      },
      "execution_count": 12,
      "outputs": [
        {
          "output_type": "stream",
          "name": "stdout",
          "text": [
            "+------+-----+\n",
            "| Name |Marks|\n",
            "+------+-----+\n",
            "|  Mike|   80|\n",
            "|Thomas|   78|\n",
            "|   Amy|   43|\n",
            "| Karen|  100|\n",
            "+------+-----+\n",
            "\n"
          ]
        }
      ]
    },
    {
      "cell_type": "code",
      "source": [
        "# Not operation\n",
        "df_spark.filter(~(df_spark['Marks']>30)).select(['Name ','Marks']).show()"
      ],
      "metadata": {
        "colab": {
          "base_uri": "https://localhost:8080/"
        },
        "id": "gd__rmsMDxsJ",
        "outputId": "50dfb3dc-ee2b-4044-dffb-2457a6daf041"
      },
      "execution_count": 14,
      "outputs": [
        {
          "output_type": "stream",
          "name": "stdout",
          "text": [
            "+------+-----+\n",
            "| Name |Marks|\n",
            "+------+-----+\n",
            "|Jacson|   30|\n",
            "+------+-----+\n",
            "\n"
          ]
        }
      ]
    },
    {
      "cell_type": "code",
      "source": [],
      "metadata": {
        "id": "g3DG985bEBWF"
      },
      "execution_count": null,
      "outputs": []
    }
  ]
}